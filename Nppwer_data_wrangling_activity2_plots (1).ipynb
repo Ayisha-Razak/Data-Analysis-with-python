{
  "metadata": {
    "kernelspec": {
      "name": "python",
      "display_name": "Python (Pyodide)",
      "language": "python"
    },
    "language_info": {
      "codemirror_mode": {
        "name": "python",
        "version": 3
      },
      "file_extension": ".py",
      "mimetype": "text/x-python",
      "name": "python",
      "nbconvert_exporter": "python",
      "pygments_lexer": "ipython3",
      "version": "3.8"
    }
  },
  "nbformat_minor": 4,
  "nbformat": 4,
  "cells": [
    {
      "cell_type": "code",
      "source": "import piplite\nawait piplite.install(['pandas'])\nawait piplite.install(['matplotlib'])",
      "metadata": {
        "trusted": true
      },
      "execution_count": 1,
      "outputs": []
    },
    {
      "cell_type": "code",
      "source": "import os\nimport numpy as np \nimport pandas as pd \n#import seaborn as sns\nfrom scipy import stats\n#import pandas_profiling as pp\nimport matplotlib.pyplot as plt\nfrom collections import Counter\nfrom sklearn.metrics import r2_score\nfrom sklearn.linear_model import LinearRegression\nfrom sklearn.preprocessing import PolynomialFeatures",
      "metadata": {
        "trusted": true
      },
      "execution_count": 2,
      "outputs": []
    },
    {
      "cell_type": "code",
      "source": "",
      "metadata": {},
      "execution_count": 2,
      "outputs": []
    },
    {
      "cell_type": "code",
      "source": "#This function will download the dataset into your browser \nfrom pyodide.http import pyfetch\n\nasync def download(url, filename):\n    response = await pyfetch(url)\n    if response.status == 200:\n        with open(filename, \"wb\") as f:\n            f.write(await response.bytes())",
      "metadata": {
        "trusted": true
      },
      "execution_count": 3,
      "outputs": []
    },
    {
      "cell_type": "code",
      "source": "for dirname, _, filenames in os.walk('/kaggle/input'):\n    for filename in filenames:\n        print(os.path.join(dirname, filename))\n",
      "metadata": {
        "trusted": true
      },
      "execution_count": 4,
      "outputs": []
    },
    {
      "cell_type": "code",
      "source": "filename = \"/kaggle/input/automobile-dataset/Automobile_data.csv\"",
      "metadata": {
        "trusted": true
      },
      "execution_count": 5,
      "outputs": []
    },
    {
      "cell_type": "code",
      "source": "\ndf=pd.read_csv(\"auto-mpg.csv\")\n#df=pd.read_csv(\"/Desktop/NPower_CANADA/C_7Data_Analysis_Python/blackBoard/auto-mpg.csv\")\ndf.head()",
      "metadata": {
        "trusted": true
      },
      "execution_count": 7,
      "outputs": [
        {
          "execution_count": 7,
          "output_type": "execute_result",
          "data": {
            "text/plain": "   mpg  cylinders  displacement  horsepower  weight  acceleration  model year  \\\n0   18          8         307.0         130    3504          12.0        70.0   \n1   15          8         350.0         165    3693          11.5        70.0   \n2   18          8         318.0         150    3436          11.0        70.0   \n3   16          8         304.0         150    3433          12.0        70.0   \n4   17          8         302.0         140    3449          10.5        70.0   \n\n   origin                   car name CAR Number  \n0       1  chevrolet chevelle malibu    L6V 043  \n1       1          buick skylark 320     RTY079  \n2       1         plymouth satellite     MTP600  \n3       1              amc rebel sst     MNJ000  \n4       1                ford torino   JEETMEET  ",
            "text/html": "<div>\n<style scoped>\n    .dataframe tbody tr th:only-of-type {\n        vertical-align: middle;\n    }\n\n    .dataframe tbody tr th {\n        vertical-align: top;\n    }\n\n    .dataframe thead th {\n        text-align: right;\n    }\n</style>\n<table border=\"1\" class=\"dataframe\">\n  <thead>\n    <tr style=\"text-align: right;\">\n      <th></th>\n      <th>mpg</th>\n      <th>cylinders</th>\n      <th>displacement</th>\n      <th>horsepower</th>\n      <th>weight</th>\n      <th>acceleration</th>\n      <th>model year</th>\n      <th>origin</th>\n      <th>car name</th>\n      <th>CAR Number</th>\n    </tr>\n  </thead>\n  <tbody>\n    <tr>\n      <th>0</th>\n      <td>18</td>\n      <td>8</td>\n      <td>307.0</td>\n      <td>130</td>\n      <td>3504</td>\n      <td>12.0</td>\n      <td>70.0</td>\n      <td>1</td>\n      <td>chevrolet chevelle malibu</td>\n      <td>L6V 043</td>\n    </tr>\n    <tr>\n      <th>1</th>\n      <td>15</td>\n      <td>8</td>\n      <td>350.0</td>\n      <td>165</td>\n      <td>3693</td>\n      <td>11.5</td>\n      <td>70.0</td>\n      <td>1</td>\n      <td>buick skylark 320</td>\n      <td>RTY079</td>\n    </tr>\n    <tr>\n      <th>2</th>\n      <td>18</td>\n      <td>8</td>\n      <td>318.0</td>\n      <td>150</td>\n      <td>3436</td>\n      <td>11.0</td>\n      <td>70.0</td>\n      <td>1</td>\n      <td>plymouth satellite</td>\n      <td>MTP600</td>\n    </tr>\n    <tr>\n      <th>3</th>\n      <td>16</td>\n      <td>8</td>\n      <td>304.0</td>\n      <td>150</td>\n      <td>3433</td>\n      <td>12.0</td>\n      <td>70.0</td>\n      <td>1</td>\n      <td>amc rebel sst</td>\n      <td>MNJ000</td>\n    </tr>\n    <tr>\n      <th>4</th>\n      <td>17</td>\n      <td>8</td>\n      <td>302.0</td>\n      <td>140</td>\n      <td>3449</td>\n      <td>10.5</td>\n      <td>70.0</td>\n      <td>1</td>\n      <td>ford torino</td>\n      <td>JEETMEET</td>\n    </tr>\n  </tbody>\n</table>\n</div>"
          },
          "metadata": {}
        }
      ]
    },
    {
      "cell_type": "code",
      "source": "df.isnull().sum()",
      "metadata": {
        "trusted": true
      },
      "execution_count": 8,
      "outputs": [
        {
          "execution_count": 8,
          "output_type": "execute_result",
          "data": {
            "text/plain": "mpg             0\ncylinders       0\ndisplacement    0\nhorsepower      0\nweight          0\nacceleration    2\nmodel year      2\norigin          0\ncar name        0\nCAR Number      7\ndtype: int64"
          },
          "metadata": {}
        }
      ]
    },
    {
      "cell_type": "code",
      "source": "df.shape",
      "metadata": {
        "trusted": true
      },
      "execution_count": 9,
      "outputs": [
        {
          "execution_count": 9,
          "output_type": "execute_result",
          "data": {
            "text/plain": "(98, 10)"
          },
          "metadata": {}
        }
      ]
    },
    {
      "cell_type": "code",
      "source": "\ndf.columns\ndf['car name'].replace(np.nan,'NNN',inplace=True)\n",
      "metadata": {
        "trusted": true
      },
      "execution_count": 10,
      "outputs": []
    },
    {
      "cell_type": "code",
      "source": "df['acceleration'] = df['acceleration'].fillna(df['acceleration'].mean())\ndf['acceleration'].isnull().sum()\n#avg_norm_loss = df[\"normalized-losses\"].astype(\"float\").mean(axis=0)\n#print(\"Average of normalized-losses:\", avg_norm_loss)\n#df[\"normalized-losses\"].replace(np.nan, avg_norm_loss, inplace=True)",
      "metadata": {
        "trusted": true
      },
      "execution_count": 11,
      "outputs": [
        {
          "execution_count": 11,
          "output_type": "execute_result",
          "data": {
            "text/plain": "0"
          },
          "metadata": {}
        }
      ]
    },
    {
      "cell_type": "code",
      "source": "#df.tail(60)\ndf['car name'].isnull().sum()\n",
      "metadata": {
        "trusted": true
      },
      "execution_count": 12,
      "outputs": [
        {
          "execution_count": 12,
          "output_type": "execute_result",
          "data": {
            "text/plain": "0"
          },
          "metadata": {}
        }
      ]
    },
    {
      "cell_type": "code",
      "source": "df.tail(5)",
      "metadata": {},
      "execution_count": 63,
      "outputs": [
        {
          "execution_count": 63,
          "output_type": "execute_result",
          "data": {
            "text/html": [
              "<div>\n",
              "<style scoped>\n",
              "    .dataframe tbody tr th:only-of-type {\n",
              "        vertical-align: middle;\n",
              "    }\n",
              "\n",
              "    .dataframe tbody tr th {\n",
              "        vertical-align: top;\n",
              "    }\n",
              "\n",
              "    .dataframe thead th {\n",
              "        text-align: right;\n",
              "    }\n",
              "</style>\n",
              "<table border=\"1\" class=\"dataframe\">\n",
              "  <thead>\n",
              "    <tr style=\"text-align: right;\">\n",
              "      <th></th>\n",
              "      <th>mpg</th>\n",
              "      <th>cylinders</th>\n",
              "      <th>displacement</th>\n",
              "      <th>horsepower</th>\n",
              "      <th>weight</th>\n",
              "      <th>acceleration</th>\n",
              "      <th>model year</th>\n",
              "      <th>origin</th>\n",
              "      <th>car name</th>\n",
              "      <th>CAR Number</th>\n",
              "    </tr>\n",
              "  </thead>\n",
              "  <tbody>\n",
              "    <tr>\n",
              "      <th>93</th>\n",
              "      <td>14</td>\n",
              "      <td>8</td>\n",
              "      <td>318.0</td>\n",
              "      <td>150</td>\n",
              "      <td>4237</td>\n",
              "      <td>14.5</td>\n",
              "      <td>73.0</td>\n",
              "      <td>1</td>\n",
              "      <td>plymouth fury gran sedan</td>\n",
              "      <td>FGTEE4</td>\n",
              "    </tr>\n",
              "    <tr>\n",
              "      <th>94</th>\n",
              "      <td>13</td>\n",
              "      <td>8</td>\n",
              "      <td>440.0</td>\n",
              "      <td>215</td>\n",
              "      <td>4735</td>\n",
              "      <td>11.0</td>\n",
              "      <td>73.0</td>\n",
              "      <td>1</td>\n",
              "      <td>chrysler new yorker brougham</td>\n",
              "      <td>GTTYR6</td>\n",
              "    </tr>\n",
              "    <tr>\n",
              "      <th>95</th>\n",
              "      <td>12</td>\n",
              "      <td>8</td>\n",
              "      <td>455.0</td>\n",
              "      <td>225</td>\n",
              "      <td>4951</td>\n",
              "      <td>11.0</td>\n",
              "      <td>73.0</td>\n",
              "      <td>1</td>\n",
              "      <td>buick electra 225 custom</td>\n",
              "      <td>TTGGT53</td>\n",
              "    </tr>\n",
              "    <tr>\n",
              "      <th>96</th>\n",
              "      <td>13</td>\n",
              "      <td>8</td>\n",
              "      <td>360.0</td>\n",
              "      <td>175</td>\n",
              "      <td>3821</td>\n",
              "      <td>11.0</td>\n",
              "      <td>73.0</td>\n",
              "      <td>1</td>\n",
              "      <td>amc ambassador brougham</td>\n",
              "      <td>TGTYY67</td>\n",
              "    </tr>\n",
              "    <tr>\n",
              "      <th>97</th>\n",
              "      <td>18</td>\n",
              "      <td>6</td>\n",
              "      <td>225.0</td>\n",
              "      <td>105</td>\n",
              "      <td>3121</td>\n",
              "      <td>16.5</td>\n",
              "      <td>73.0</td>\n",
              "      <td>1</td>\n",
              "      <td>plymouth valiant</td>\n",
              "      <td>HUYT76</td>\n",
              "    </tr>\n",
              "  </tbody>\n",
              "</table>\n",
              "</div>"
            ],
            "text/plain": [
              "    mpg  cylinders  displacement  horsepower  weight  acceleration  \\\n",
              "93   14          8         318.0         150    4237          14.5   \n",
              "94   13          8         440.0         215    4735          11.0   \n",
              "95   12          8         455.0         225    4951          11.0   \n",
              "96   13          8         360.0         175    3821          11.0   \n",
              "97   18          6         225.0         105    3121          16.5   \n",
              "\n",
              "    model year  origin                      car name CAR Number  \n",
              "93        73.0       1      plymouth fury gran sedan     FGTEE4  \n",
              "94        73.0       1  chrysler new yorker brougham     GTTYR6  \n",
              "95        73.0       1      buick electra 225 custom    TTGGT53  \n",
              "96        73.0       1       amc ambassador brougham    TGTYY67  \n",
              "97        73.0       1              plymouth valiant     HUYT76  "
            ]
          },
          "metadata": {}
        }
      ]
    },
    {
      "cell_type": "markdown",
      "source": "#important",
      "metadata": {}
    },
    {
      "cell_type": "code",
      "source": "df['model year'].fillna((df['model year'].shift()+df['model year'].shift(-1))/2,inplace=True)\n",
      "metadata": {
        "trusted": true
      },
      "execution_count": 13,
      "outputs": []
    },
    {
      "cell_type": "code",
      "source": "df['CAR Number'].replace(np.nan, 'NNNNNN',inplace=True)",
      "metadata": {
        "trusted": true
      },
      "execution_count": 14,
      "outputs": []
    },
    {
      "cell_type": "code",
      "source": "df.isnull().sum()",
      "metadata": {
        "trusted": true
      },
      "execution_count": 15,
      "outputs": [
        {
          "execution_count": 15,
          "output_type": "execute_result",
          "data": {
            "text/plain": "mpg             0\ncylinders       0\ndisplacement    0\nhorsepower      0\nweight          0\nacceleration    0\nmodel year      0\norigin          0\ncar name        0\nCAR Number      0\ndtype: int64"
          },
          "metadata": {}
        }
      ]
    },
    {
      "cell_type": "code",
      "source": "df.dtypes",
      "metadata": {
        "trusted": true
      },
      "execution_count": 16,
      "outputs": [
        {
          "execution_count": 16,
          "output_type": "execute_result",
          "data": {
            "text/plain": "mpg               int64\ncylinders         int64\ndisplacement    float64\nhorsepower        int64\nweight            int64\nacceleration    float64\nmodel year      float64\norigin            int64\ncar name         object\nCAR Number       object\ndtype: object"
          },
          "metadata": {}
        }
      ]
    },
    {
      "cell_type": "code",
      "source": "#Display the first five and last five rows\ndf.head()\ndf.tail()\n#Display all the column names in the dataset\nprint(df.columns)\n#Display the concise summary of your dataset\ndf.describe(include='all')\n#Display the name of the car with maximum number of horsepower.#\n#number of duplicate values\n#df.duplicated().value_counts()\ndf.drop_duplicates(inplace=True)\ndf.duplicated().value_counts()\n",
      "metadata": {
        "trusted": true
      },
      "execution_count": 17,
      "outputs": [
        {
          "name": "stdout",
          "text": "Index(['mpg', 'cylinders', 'displacement', 'horsepower', 'weight',\n       'acceleration', 'model year', 'origin', 'car name', 'CAR Number'],\n      dtype='object')\n",
          "output_type": "stream"
        },
        {
          "execution_count": 17,
          "output_type": "execute_result",
          "data": {
            "text/plain": "False    97\ndtype: int64"
          },
          "metadata": {}
        }
      ]
    },
    {
      "cell_type": "code",
      "source": "df.groupby(by=['horsepower']).max()\n#housepower_max_id=df[['horsepower']].idxmax()\n#df['car name'].iloc[housepower_max_id]",
      "metadata": {
        "trusted": true
      },
      "execution_count": 18,
      "outputs": [
        {
          "execution_count": 18,
          "output_type": "execute_result",
          "data": {
            "text/plain": "            mpg  cylinders  displacement  weight  acceleration  model year  \\\nhorsepower                                                                   \n46           26          4          97.0    1835     20.500000        70.0   \n54           23          4          97.0    2254     23.500000        72.0   \n60           27          4          97.0    1834     19.000000        71.0   \n65           31          4          71.0    1773     14.046875        71.0   \n69           35          4          96.0    2189     18.000000        72.0   \n70           30          4          91.0    2074     20.500000        71.5   \n72           22          4         140.0    2408     19.000000        71.0   \n76           30          4         121.0    2511     18.000000        72.0   \n80           28          4          98.0    2164     19.000000        72.0   \n86           23          4         122.0    2395     16.500000        72.0   \n87           25          4         120.0    2979     19.500000        72.0   \n88           27          6         250.0    3302     16.500000        72.0   \n90           28          6         199.0    2648     19.500000        72.0   \n92           28          4          97.0    2288     17.000000        72.0   \n95           25          6         198.0    2833     17.500000        72.0   \n97           23          6         199.0    2774     15.500000        72.0   \n100          19          6         250.0    3329     15.500000        71.0   \n105          18          6         225.0    3439     16.500000        73.0   \n110          18          6         258.0    2962     13.500000        71.0   \n112          18          4         121.0    2933     14.500000        72.0   \n113          26          4         121.0    2234     12.500000        70.0   \n130          18          8         307.0    4098     14.000000        72.0   \n137          14          8         302.0    4042     14.500000        73.0   \n140          17          8         302.0    4294     16.000000        72.0   \n145          13          8         350.0    3988     13.000000        73.0   \n150          18          8         400.0    4464     14.500000        73.0   \n153          14          8         351.0    4154     13.500000        72.0   \n155          13          8         350.0    4502     13.500000        72.0   \n158          13          8         351.0    4363     13.000000        73.0   \n160          14          8         350.0    4456     13.500000        72.0   \n165          15          8         350.0    4274     12.000000        72.0   \n170          15          8         400.0    4746     12.000000        71.0   \n175          14          8         400.0    5140     13.000000        73.0   \n180          12          8         383.0    4955     11.500000        71.0   \n190          15          8         400.0    4422     12.500000        72.0   \n193           9          8         304.0    4732     18.500000        70.0   \n198          15          8         429.0    4952     11.500000        73.0   \n200          10          8         307.0    4376     15.000000        70.0   \n208          11          8         429.0    4633     11.000000        72.0   \n210          11          8         318.0    4382     13.500000        70.0   \n215          14          8         440.0    4735     14.000000        73.0   \n220          14          8         454.0    4354      9.000000        70.0   \n225          14          8         455.0    4951     11.000000        73.0   \n\n            origin                        car name CAR Number  \nhorsepower                                                     \n46               2    volkswagen 1131 deluxe sedan   RHUSJ948  \n54               2               volkswagen type 3     ERT566  \n60               2            volkswagen model 111    TY56783  \n65               3             toyota corolla 1200     T568G4  \n69               3                 renault 12 (sw)     NNNNNN  \n70               2                plymouth cricket     TY6764  \n72               1             chevrolet vega (sw)    GTY685E  \n76               2             volkswagen 411 (sw)     NNNNNN  \n80               1                      ford pinto     YU766J  \n86               1              mercury capri 2000     JHG890  \n87               2                peugeot 504 (sw)    JIU5690  \n88               3        toyota corolla 1600 (sw)    RT57684  \n90               2                       opel 1900     R4R563  \n92               3                 datsun 510 (sw)    SWE2334  \n95               3           toyota corona mark ii     RSTNU8  \n97               3     toyouta corona mark ii (sw)     THUK78  \n100              1                pontiac firebird    RFT7854  \n105              1                plymouth valiant     JHGY59  \n110              1      amc hornet sportabout (sw)     GTHY79  \n112              2                 volvo 145e (sw)     LOPE35  \n113              2                        bmw 2002   JHGTF467  \n130              1       chevrolet chevelle malibu     NNNNNN  \n137              1                ford gran torino    XSDE456  \n140              1                     ford torino   JEETMEET  \n145              1                chevrolet malibu     HY5BR5  \n150              1  plymouth satellite custom (sw)     XCEE46  \n153              1                ford galaxie 500     NV8789  \n155              1            buick lesabre custom     JHHG43  \n158              1                        ford ltd     GTH654  \n160              1              plymouth 'cuda 340     TN5679  \n165              1                chevrolet impala     RTY079  \n170              1        ford country squire (sw)     TN5678  \n175              1             pontiac safari (sw)    Y688F55  \n180              1               dodge monaco (sw)    DET5786  \n190              1          chrysler newport royal     NNNNNN  \n193              1                        hi 1200d    IUHU63G  \n198              1        mercury marquis brougham    NEET090  \n200              1                       chevy c20     NNNNNN  \n208              1                 mercury marquis     KJH480  \n210              1                      dodge d200     HG4679  \n215              1               plymouth fury iii     MNOP56  \n220              1                chevrolet impala    NEET098  \n225              1                pontiac catalina     YUTN78  ",
            "text/html": "<div>\n<style scoped>\n    .dataframe tbody tr th:only-of-type {\n        vertical-align: middle;\n    }\n\n    .dataframe tbody tr th {\n        vertical-align: top;\n    }\n\n    .dataframe thead th {\n        text-align: right;\n    }\n</style>\n<table border=\"1\" class=\"dataframe\">\n  <thead>\n    <tr style=\"text-align: right;\">\n      <th></th>\n      <th>mpg</th>\n      <th>cylinders</th>\n      <th>displacement</th>\n      <th>weight</th>\n      <th>acceleration</th>\n      <th>model year</th>\n      <th>origin</th>\n      <th>car name</th>\n      <th>CAR Number</th>\n    </tr>\n    <tr>\n      <th>horsepower</th>\n      <th></th>\n      <th></th>\n      <th></th>\n      <th></th>\n      <th></th>\n      <th></th>\n      <th></th>\n      <th></th>\n      <th></th>\n    </tr>\n  </thead>\n  <tbody>\n    <tr>\n      <th>46</th>\n      <td>26</td>\n      <td>4</td>\n      <td>97.0</td>\n      <td>1835</td>\n      <td>20.500000</td>\n      <td>70.0</td>\n      <td>2</td>\n      <td>volkswagen 1131 deluxe sedan</td>\n      <td>RHUSJ948</td>\n    </tr>\n    <tr>\n      <th>54</th>\n      <td>23</td>\n      <td>4</td>\n      <td>97.0</td>\n      <td>2254</td>\n      <td>23.500000</td>\n      <td>72.0</td>\n      <td>2</td>\n      <td>volkswagen type 3</td>\n      <td>ERT566</td>\n    </tr>\n    <tr>\n      <th>60</th>\n      <td>27</td>\n      <td>4</td>\n      <td>97.0</td>\n      <td>1834</td>\n      <td>19.000000</td>\n      <td>71.0</td>\n      <td>2</td>\n      <td>volkswagen model 111</td>\n      <td>TY56783</td>\n    </tr>\n    <tr>\n      <th>65</th>\n      <td>31</td>\n      <td>4</td>\n      <td>71.0</td>\n      <td>1773</td>\n      <td>14.046875</td>\n      <td>71.0</td>\n      <td>3</td>\n      <td>toyota corolla 1200</td>\n      <td>T568G4</td>\n    </tr>\n    <tr>\n      <th>69</th>\n      <td>35</td>\n      <td>4</td>\n      <td>96.0</td>\n      <td>2189</td>\n      <td>18.000000</td>\n      <td>72.0</td>\n      <td>3</td>\n      <td>renault 12 (sw)</td>\n      <td>NNNNNN</td>\n    </tr>\n    <tr>\n      <th>70</th>\n      <td>30</td>\n      <td>4</td>\n      <td>91.0</td>\n      <td>2074</td>\n      <td>20.500000</td>\n      <td>71.5</td>\n      <td>2</td>\n      <td>plymouth cricket</td>\n      <td>TY6764</td>\n    </tr>\n    <tr>\n      <th>72</th>\n      <td>22</td>\n      <td>4</td>\n      <td>140.0</td>\n      <td>2408</td>\n      <td>19.000000</td>\n      <td>71.0</td>\n      <td>1</td>\n      <td>chevrolet vega (sw)</td>\n      <td>GTY685E</td>\n    </tr>\n    <tr>\n      <th>76</th>\n      <td>30</td>\n      <td>4</td>\n      <td>121.0</td>\n      <td>2511</td>\n      <td>18.000000</td>\n      <td>72.0</td>\n      <td>2</td>\n      <td>volkswagen 411 (sw)</td>\n      <td>NNNNNN</td>\n    </tr>\n    <tr>\n      <th>80</th>\n      <td>28</td>\n      <td>4</td>\n      <td>98.0</td>\n      <td>2164</td>\n      <td>19.000000</td>\n      <td>72.0</td>\n      <td>1</td>\n      <td>ford pinto</td>\n      <td>YU766J</td>\n    </tr>\n    <tr>\n      <th>86</th>\n      <td>23</td>\n      <td>4</td>\n      <td>122.0</td>\n      <td>2395</td>\n      <td>16.500000</td>\n      <td>72.0</td>\n      <td>1</td>\n      <td>mercury capri 2000</td>\n      <td>JHG890</td>\n    </tr>\n    <tr>\n      <th>87</th>\n      <td>25</td>\n      <td>4</td>\n      <td>120.0</td>\n      <td>2979</td>\n      <td>19.500000</td>\n      <td>72.0</td>\n      <td>2</td>\n      <td>peugeot 504 (sw)</td>\n      <td>JIU5690</td>\n    </tr>\n    <tr>\n      <th>88</th>\n      <td>27</td>\n      <td>6</td>\n      <td>250.0</td>\n      <td>3302</td>\n      <td>16.500000</td>\n      <td>72.0</td>\n      <td>3</td>\n      <td>toyota corolla 1600 (sw)</td>\n      <td>RT57684</td>\n    </tr>\n    <tr>\n      <th>90</th>\n      <td>28</td>\n      <td>6</td>\n      <td>199.0</td>\n      <td>2648</td>\n      <td>19.500000</td>\n      <td>72.0</td>\n      <td>2</td>\n      <td>opel 1900</td>\n      <td>R4R563</td>\n    </tr>\n    <tr>\n      <th>92</th>\n      <td>28</td>\n      <td>4</td>\n      <td>97.0</td>\n      <td>2288</td>\n      <td>17.000000</td>\n      <td>72.0</td>\n      <td>3</td>\n      <td>datsun 510 (sw)</td>\n      <td>SWE2334</td>\n    </tr>\n    <tr>\n      <th>95</th>\n      <td>25</td>\n      <td>6</td>\n      <td>198.0</td>\n      <td>2833</td>\n      <td>17.500000</td>\n      <td>72.0</td>\n      <td>3</td>\n      <td>toyota corona mark ii</td>\n      <td>RSTNU8</td>\n    </tr>\n    <tr>\n      <th>97</th>\n      <td>23</td>\n      <td>6</td>\n      <td>199.0</td>\n      <td>2774</td>\n      <td>15.500000</td>\n      <td>72.0</td>\n      <td>3</td>\n      <td>toyouta corona mark ii (sw)</td>\n      <td>THUK78</td>\n    </tr>\n    <tr>\n      <th>100</th>\n      <td>19</td>\n      <td>6</td>\n      <td>250.0</td>\n      <td>3329</td>\n      <td>15.500000</td>\n      <td>71.0</td>\n      <td>1</td>\n      <td>pontiac firebird</td>\n      <td>RFT7854</td>\n    </tr>\n    <tr>\n      <th>105</th>\n      <td>18</td>\n      <td>6</td>\n      <td>225.0</td>\n      <td>3439</td>\n      <td>16.500000</td>\n      <td>73.0</td>\n      <td>1</td>\n      <td>plymouth valiant</td>\n      <td>JHGY59</td>\n    </tr>\n    <tr>\n      <th>110</th>\n      <td>18</td>\n      <td>6</td>\n      <td>258.0</td>\n      <td>2962</td>\n      <td>13.500000</td>\n      <td>71.0</td>\n      <td>1</td>\n      <td>amc hornet sportabout (sw)</td>\n      <td>GTHY79</td>\n    </tr>\n    <tr>\n      <th>112</th>\n      <td>18</td>\n      <td>4</td>\n      <td>121.0</td>\n      <td>2933</td>\n      <td>14.500000</td>\n      <td>72.0</td>\n      <td>2</td>\n      <td>volvo 145e (sw)</td>\n      <td>LOPE35</td>\n    </tr>\n    <tr>\n      <th>113</th>\n      <td>26</td>\n      <td>4</td>\n      <td>121.0</td>\n      <td>2234</td>\n      <td>12.500000</td>\n      <td>70.0</td>\n      <td>2</td>\n      <td>bmw 2002</td>\n      <td>JHGTF467</td>\n    </tr>\n    <tr>\n      <th>130</th>\n      <td>18</td>\n      <td>8</td>\n      <td>307.0</td>\n      <td>4098</td>\n      <td>14.000000</td>\n      <td>72.0</td>\n      <td>1</td>\n      <td>chevrolet chevelle malibu</td>\n      <td>NNNNNN</td>\n    </tr>\n    <tr>\n      <th>137</th>\n      <td>14</td>\n      <td>8</td>\n      <td>302.0</td>\n      <td>4042</td>\n      <td>14.500000</td>\n      <td>73.0</td>\n      <td>1</td>\n      <td>ford gran torino</td>\n      <td>XSDE456</td>\n    </tr>\n    <tr>\n      <th>140</th>\n      <td>17</td>\n      <td>8</td>\n      <td>302.0</td>\n      <td>4294</td>\n      <td>16.000000</td>\n      <td>72.0</td>\n      <td>1</td>\n      <td>ford torino</td>\n      <td>JEETMEET</td>\n    </tr>\n    <tr>\n      <th>145</th>\n      <td>13</td>\n      <td>8</td>\n      <td>350.0</td>\n      <td>3988</td>\n      <td>13.000000</td>\n      <td>73.0</td>\n      <td>1</td>\n      <td>chevrolet malibu</td>\n      <td>HY5BR5</td>\n    </tr>\n    <tr>\n      <th>150</th>\n      <td>18</td>\n      <td>8</td>\n      <td>400.0</td>\n      <td>4464</td>\n      <td>14.500000</td>\n      <td>73.0</td>\n      <td>1</td>\n      <td>plymouth satellite custom (sw)</td>\n      <td>XCEE46</td>\n    </tr>\n    <tr>\n      <th>153</th>\n      <td>14</td>\n      <td>8</td>\n      <td>351.0</td>\n      <td>4154</td>\n      <td>13.500000</td>\n      <td>72.0</td>\n      <td>1</td>\n      <td>ford galaxie 500</td>\n      <td>NV8789</td>\n    </tr>\n    <tr>\n      <th>155</th>\n      <td>13</td>\n      <td>8</td>\n      <td>350.0</td>\n      <td>4502</td>\n      <td>13.500000</td>\n      <td>72.0</td>\n      <td>1</td>\n      <td>buick lesabre custom</td>\n      <td>JHHG43</td>\n    </tr>\n    <tr>\n      <th>158</th>\n      <td>13</td>\n      <td>8</td>\n      <td>351.0</td>\n      <td>4363</td>\n      <td>13.000000</td>\n      <td>73.0</td>\n      <td>1</td>\n      <td>ford ltd</td>\n      <td>GTH654</td>\n    </tr>\n    <tr>\n      <th>160</th>\n      <td>14</td>\n      <td>8</td>\n      <td>350.0</td>\n      <td>4456</td>\n      <td>13.500000</td>\n      <td>72.0</td>\n      <td>1</td>\n      <td>plymouth 'cuda 340</td>\n      <td>TN5679</td>\n    </tr>\n    <tr>\n      <th>165</th>\n      <td>15</td>\n      <td>8</td>\n      <td>350.0</td>\n      <td>4274</td>\n      <td>12.000000</td>\n      <td>72.0</td>\n      <td>1</td>\n      <td>chevrolet impala</td>\n      <td>RTY079</td>\n    </tr>\n    <tr>\n      <th>170</th>\n      <td>15</td>\n      <td>8</td>\n      <td>400.0</td>\n      <td>4746</td>\n      <td>12.000000</td>\n      <td>71.0</td>\n      <td>1</td>\n      <td>ford country squire (sw)</td>\n      <td>TN5678</td>\n    </tr>\n    <tr>\n      <th>175</th>\n      <td>14</td>\n      <td>8</td>\n      <td>400.0</td>\n      <td>5140</td>\n      <td>13.000000</td>\n      <td>73.0</td>\n      <td>1</td>\n      <td>pontiac safari (sw)</td>\n      <td>Y688F55</td>\n    </tr>\n    <tr>\n      <th>180</th>\n      <td>12</td>\n      <td>8</td>\n      <td>383.0</td>\n      <td>4955</td>\n      <td>11.500000</td>\n      <td>71.0</td>\n      <td>1</td>\n      <td>dodge monaco (sw)</td>\n      <td>DET5786</td>\n    </tr>\n    <tr>\n      <th>190</th>\n      <td>15</td>\n      <td>8</td>\n      <td>400.0</td>\n      <td>4422</td>\n      <td>12.500000</td>\n      <td>72.0</td>\n      <td>1</td>\n      <td>chrysler newport royal</td>\n      <td>NNNNNN</td>\n    </tr>\n    <tr>\n      <th>193</th>\n      <td>9</td>\n      <td>8</td>\n      <td>304.0</td>\n      <td>4732</td>\n      <td>18.500000</td>\n      <td>70.0</td>\n      <td>1</td>\n      <td>hi 1200d</td>\n      <td>IUHU63G</td>\n    </tr>\n    <tr>\n      <th>198</th>\n      <td>15</td>\n      <td>8</td>\n      <td>429.0</td>\n      <td>4952</td>\n      <td>11.500000</td>\n      <td>73.0</td>\n      <td>1</td>\n      <td>mercury marquis brougham</td>\n      <td>NEET090</td>\n    </tr>\n    <tr>\n      <th>200</th>\n      <td>10</td>\n      <td>8</td>\n      <td>307.0</td>\n      <td>4376</td>\n      <td>15.000000</td>\n      <td>70.0</td>\n      <td>1</td>\n      <td>chevy c20</td>\n      <td>NNNNNN</td>\n    </tr>\n    <tr>\n      <th>208</th>\n      <td>11</td>\n      <td>8</td>\n      <td>429.0</td>\n      <td>4633</td>\n      <td>11.000000</td>\n      <td>72.0</td>\n      <td>1</td>\n      <td>mercury marquis</td>\n      <td>KJH480</td>\n    </tr>\n    <tr>\n      <th>210</th>\n      <td>11</td>\n      <td>8</td>\n      <td>318.0</td>\n      <td>4382</td>\n      <td>13.500000</td>\n      <td>70.0</td>\n      <td>1</td>\n      <td>dodge d200</td>\n      <td>HG4679</td>\n    </tr>\n    <tr>\n      <th>215</th>\n      <td>14</td>\n      <td>8</td>\n      <td>440.0</td>\n      <td>4735</td>\n      <td>14.000000</td>\n      <td>73.0</td>\n      <td>1</td>\n      <td>plymouth fury iii</td>\n      <td>MNOP56</td>\n    </tr>\n    <tr>\n      <th>220</th>\n      <td>14</td>\n      <td>8</td>\n      <td>454.0</td>\n      <td>4354</td>\n      <td>9.000000</td>\n      <td>70.0</td>\n      <td>1</td>\n      <td>chevrolet impala</td>\n      <td>NEET098</td>\n    </tr>\n    <tr>\n      <th>225</th>\n      <td>14</td>\n      <td>8</td>\n      <td>455.0</td>\n      <td>4951</td>\n      <td>11.000000</td>\n      <td>73.0</td>\n      <td>1</td>\n      <td>pontiac catalina</td>\n      <td>YUTN78</td>\n    </tr>\n  </tbody>\n</table>\n</div>"
          },
          "metadata": {}
        }
      ]
    },
    {
      "cell_type": "code",
      "source": "housepower_max_id=df[['horsepower']].idxmax()\ndf['car name'].iloc[housepower_max_id]",
      "metadata": {
        "trusted": true
      },
      "execution_count": 19,
      "outputs": [
        {
          "execution_count": 19,
          "output_type": "execute_result",
          "data": {
            "text/plain": "8    pontiac catalina\nName: car name, dtype: object"
          },
          "metadata": {}
        }
      ]
    },
    {
      "cell_type": "code",
      "source": "df['L/100km'] = 235/df[\"mpg\"]\ndf.head()\n",
      "metadata": {
        "trusted": true
      },
      "execution_count": 20,
      "outputs": [
        {
          "execution_count": 20,
          "output_type": "execute_result",
          "data": {
            "text/plain": "   mpg  cylinders  displacement  horsepower  weight  acceleration  model year  \\\n0   18          8         307.0         130    3504          12.0        70.0   \n1   15          8         350.0         165    3693          11.5        70.0   \n2   18          8         318.0         150    3436          11.0        70.0   \n3   16          8         304.0         150    3433          12.0        70.0   \n4   17          8         302.0         140    3449          10.5        70.0   \n\n   origin                   car name CAR Number    L/100km  \n0       1  chevrolet chevelle malibu    L6V 043  13.055556  \n1       1          buick skylark 320     RTY079  15.666667  \n2       1         plymouth satellite     MTP600  13.055556  \n3       1              amc rebel sst     MNJ000  14.687500  \n4       1                ford torino   JEETMEET  13.823529  ",
            "text/html": "<div>\n<style scoped>\n    .dataframe tbody tr th:only-of-type {\n        vertical-align: middle;\n    }\n\n    .dataframe tbody tr th {\n        vertical-align: top;\n    }\n\n    .dataframe thead th {\n        text-align: right;\n    }\n</style>\n<table border=\"1\" class=\"dataframe\">\n  <thead>\n    <tr style=\"text-align: right;\">\n      <th></th>\n      <th>mpg</th>\n      <th>cylinders</th>\n      <th>displacement</th>\n      <th>horsepower</th>\n      <th>weight</th>\n      <th>acceleration</th>\n      <th>model year</th>\n      <th>origin</th>\n      <th>car name</th>\n      <th>CAR Number</th>\n      <th>L/100km</th>\n    </tr>\n  </thead>\n  <tbody>\n    <tr>\n      <th>0</th>\n      <td>18</td>\n      <td>8</td>\n      <td>307.0</td>\n      <td>130</td>\n      <td>3504</td>\n      <td>12.0</td>\n      <td>70.0</td>\n      <td>1</td>\n      <td>chevrolet chevelle malibu</td>\n      <td>L6V 043</td>\n      <td>13.055556</td>\n    </tr>\n    <tr>\n      <th>1</th>\n      <td>15</td>\n      <td>8</td>\n      <td>350.0</td>\n      <td>165</td>\n      <td>3693</td>\n      <td>11.5</td>\n      <td>70.0</td>\n      <td>1</td>\n      <td>buick skylark 320</td>\n      <td>RTY079</td>\n      <td>15.666667</td>\n    </tr>\n    <tr>\n      <th>2</th>\n      <td>18</td>\n      <td>8</td>\n      <td>318.0</td>\n      <td>150</td>\n      <td>3436</td>\n      <td>11.0</td>\n      <td>70.0</td>\n      <td>1</td>\n      <td>plymouth satellite</td>\n      <td>MTP600</td>\n      <td>13.055556</td>\n    </tr>\n    <tr>\n      <th>3</th>\n      <td>16</td>\n      <td>8</td>\n      <td>304.0</td>\n      <td>150</td>\n      <td>3433</td>\n      <td>12.0</td>\n      <td>70.0</td>\n      <td>1</td>\n      <td>amc rebel sst</td>\n      <td>MNJ000</td>\n      <td>14.687500</td>\n    </tr>\n    <tr>\n      <th>4</th>\n      <td>17</td>\n      <td>8</td>\n      <td>302.0</td>\n      <td>140</td>\n      <td>3449</td>\n      <td>10.5</td>\n      <td>70.0</td>\n      <td>1</td>\n      <td>ford torino</td>\n      <td>JEETMEET</td>\n      <td>13.823529</td>\n    </tr>\n  </tbody>\n</table>\n</div>"
          },
          "metadata": {}
        }
      ]
    },
    {
      "cell_type": "code",
      "source": "df.drop('mpg',axis=1, inplace=True)",
      "metadata": {
        "trusted": true
      },
      "execution_count": 21,
      "outputs": []
    },
    {
      "cell_type": "code",
      "source": "df.head()",
      "metadata": {
        "trusted": true
      },
      "execution_count": 22,
      "outputs": [
        {
          "execution_count": 22,
          "output_type": "execute_result",
          "data": {
            "text/plain": "   cylinders  displacement  horsepower  weight  acceleration  model year  \\\n0          8         307.0         130    3504          12.0        70.0   \n1          8         350.0         165    3693          11.5        70.0   \n2          8         318.0         150    3436          11.0        70.0   \n3          8         304.0         150    3433          12.0        70.0   \n4          8         302.0         140    3449          10.5        70.0   \n\n   origin                   car name CAR Number    L/100km  \n0       1  chevrolet chevelle malibu    L6V 043  13.055556  \n1       1          buick skylark 320     RTY079  15.666667  \n2       1         plymouth satellite     MTP600  13.055556  \n3       1              amc rebel sst     MNJ000  14.687500  \n4       1                ford torino   JEETMEET  13.823529  ",
            "text/html": "<div>\n<style scoped>\n    .dataframe tbody tr th:only-of-type {\n        vertical-align: middle;\n    }\n\n    .dataframe tbody tr th {\n        vertical-align: top;\n    }\n\n    .dataframe thead th {\n        text-align: right;\n    }\n</style>\n<table border=\"1\" class=\"dataframe\">\n  <thead>\n    <tr style=\"text-align: right;\">\n      <th></th>\n      <th>cylinders</th>\n      <th>displacement</th>\n      <th>horsepower</th>\n      <th>weight</th>\n      <th>acceleration</th>\n      <th>model year</th>\n      <th>origin</th>\n      <th>car name</th>\n      <th>CAR Number</th>\n      <th>L/100km</th>\n    </tr>\n  </thead>\n  <tbody>\n    <tr>\n      <th>0</th>\n      <td>8</td>\n      <td>307.0</td>\n      <td>130</td>\n      <td>3504</td>\n      <td>12.0</td>\n      <td>70.0</td>\n      <td>1</td>\n      <td>chevrolet chevelle malibu</td>\n      <td>L6V 043</td>\n      <td>13.055556</td>\n    </tr>\n    <tr>\n      <th>1</th>\n      <td>8</td>\n      <td>350.0</td>\n      <td>165</td>\n      <td>3693</td>\n      <td>11.5</td>\n      <td>70.0</td>\n      <td>1</td>\n      <td>buick skylark 320</td>\n      <td>RTY079</td>\n      <td>15.666667</td>\n    </tr>\n    <tr>\n      <th>2</th>\n      <td>8</td>\n      <td>318.0</td>\n      <td>150</td>\n      <td>3436</td>\n      <td>11.0</td>\n      <td>70.0</td>\n      <td>1</td>\n      <td>plymouth satellite</td>\n      <td>MTP600</td>\n      <td>13.055556</td>\n    </tr>\n    <tr>\n      <th>3</th>\n      <td>8</td>\n      <td>304.0</td>\n      <td>150</td>\n      <td>3433</td>\n      <td>12.0</td>\n      <td>70.0</td>\n      <td>1</td>\n      <td>amc rebel sst</td>\n      <td>MNJ000</td>\n      <td>14.687500</td>\n    </tr>\n    <tr>\n      <th>4</th>\n      <td>8</td>\n      <td>302.0</td>\n      <td>140</td>\n      <td>3449</td>\n      <td>10.5</td>\n      <td>70.0</td>\n      <td>1</td>\n      <td>ford torino</td>\n      <td>JEETMEET</td>\n      <td>13.823529</td>\n    </tr>\n  </tbody>\n</table>\n</div>"
          },
          "metadata": {}
        }
      ]
    },
    {
      "cell_type": "code",
      "source": "#6. Normalize the column “Weight” so that the values range from 0 to 1\ndf['weight'] = df['weight']/df['weight'].max()\ndf.head()\n",
      "metadata": {
        "trusted": true
      },
      "execution_count": 23,
      "outputs": [
        {
          "execution_count": 23,
          "output_type": "execute_result",
          "data": {
            "text/plain": "   cylinders  displacement  horsepower    weight  acceleration  model year  \\\n0          8         307.0         130  0.681712          12.0        70.0   \n1          8         350.0         165  0.718482          11.5        70.0   \n2          8         318.0         150  0.668482          11.0        70.0   \n3          8         304.0         150  0.667899          12.0        70.0   \n4          8         302.0         140  0.671012          10.5        70.0   \n\n   origin                   car name CAR Number    L/100km  \n0       1  chevrolet chevelle malibu    L6V 043  13.055556  \n1       1          buick skylark 320     RTY079  15.666667  \n2       1         plymouth satellite     MTP600  13.055556  \n3       1              amc rebel sst     MNJ000  14.687500  \n4       1                ford torino   JEETMEET  13.823529  ",
            "text/html": "<div>\n<style scoped>\n    .dataframe tbody tr th:only-of-type {\n        vertical-align: middle;\n    }\n\n    .dataframe tbody tr th {\n        vertical-align: top;\n    }\n\n    .dataframe thead th {\n        text-align: right;\n    }\n</style>\n<table border=\"1\" class=\"dataframe\">\n  <thead>\n    <tr style=\"text-align: right;\">\n      <th></th>\n      <th>cylinders</th>\n      <th>displacement</th>\n      <th>horsepower</th>\n      <th>weight</th>\n      <th>acceleration</th>\n      <th>model year</th>\n      <th>origin</th>\n      <th>car name</th>\n      <th>CAR Number</th>\n      <th>L/100km</th>\n    </tr>\n  </thead>\n  <tbody>\n    <tr>\n      <th>0</th>\n      <td>8</td>\n      <td>307.0</td>\n      <td>130</td>\n      <td>0.681712</td>\n      <td>12.0</td>\n      <td>70.0</td>\n      <td>1</td>\n      <td>chevrolet chevelle malibu</td>\n      <td>L6V 043</td>\n      <td>13.055556</td>\n    </tr>\n    <tr>\n      <th>1</th>\n      <td>8</td>\n      <td>350.0</td>\n      <td>165</td>\n      <td>0.718482</td>\n      <td>11.5</td>\n      <td>70.0</td>\n      <td>1</td>\n      <td>buick skylark 320</td>\n      <td>RTY079</td>\n      <td>15.666667</td>\n    </tr>\n    <tr>\n      <th>2</th>\n      <td>8</td>\n      <td>318.0</td>\n      <td>150</td>\n      <td>0.668482</td>\n      <td>11.0</td>\n      <td>70.0</td>\n      <td>1</td>\n      <td>plymouth satellite</td>\n      <td>MTP600</td>\n      <td>13.055556</td>\n    </tr>\n    <tr>\n      <th>3</th>\n      <td>8</td>\n      <td>304.0</td>\n      <td>150</td>\n      <td>0.667899</td>\n      <td>12.0</td>\n      <td>70.0</td>\n      <td>1</td>\n      <td>amc rebel sst</td>\n      <td>MNJ000</td>\n      <td>14.687500</td>\n    </tr>\n    <tr>\n      <th>4</th>\n      <td>8</td>\n      <td>302.0</td>\n      <td>140</td>\n      <td>0.671012</td>\n      <td>10.5</td>\n      <td>70.0</td>\n      <td>1</td>\n      <td>ford torino</td>\n      <td>JEETMEET</td>\n      <td>13.823529</td>\n    </tr>\n  </tbody>\n</table>\n</div>"
          },
          "metadata": {}
        }
      ]
    },
    {
      "cell_type": "code",
      "source": "df['horsepower'].dtypes\n",
      "metadata": {
        "trusted": true
      },
      "execution_count": 24,
      "outputs": [
        {
          "execution_count": 24,
          "output_type": "execute_result",
          "data": {
            "text/plain": "dtype('int64')"
          },
          "metadata": {}
        }
      ]
    },
    {
      "cell_type": "code",
      "source": "bins = np.linspace(min(df[\"horsepower\"]), max(df[\"horsepower\"]), 4)\nbins",
      "metadata": {
        "trusted": true
      },
      "execution_count": 25,
      "outputs": [
        {
          "execution_count": 25,
          "output_type": "execute_result",
          "data": {
            "text/plain": "array([ 46.        , 105.66666667, 165.33333333, 225.        ])"
          },
          "metadata": {}
        }
      ]
    },
    {
      "cell_type": "code",
      "source": "bin_names = ['Little', 'Medium', 'High']",
      "metadata": {
        "trusted": true
      },
      "execution_count": 26,
      "outputs": []
    },
    {
      "cell_type": "code",
      "source": "df['horsepower-binned'] = pd.cut(df['horsepower'], bins, labels=bin_names, include_lowest=True )\ndf[['horsepower','horsepower-binned']].head(20)",
      "metadata": {
        "trusted": true
      },
      "execution_count": 27,
      "outputs": [
        {
          "execution_count": 27,
          "output_type": "execute_result",
          "data": {
            "text/plain": "    horsepower horsepower-binned\n0          130            Medium\n1          165            Medium\n2          150            Medium\n3          150            Medium\n4          140            Medium\n5          198              High\n6          220              High\n7          215              High\n8          225              High\n9          190              High\n10         170              High\n11         160            Medium\n12         150            Medium\n13         225              High\n14          95            Little\n15          95            Little\n16          97            Little\n18          88            Little\n19          46            Little\n20          87            Little",
            "text/html": "<div>\n<style scoped>\n    .dataframe tbody tr th:only-of-type {\n        vertical-align: middle;\n    }\n\n    .dataframe tbody tr th {\n        vertical-align: top;\n    }\n\n    .dataframe thead th {\n        text-align: right;\n    }\n</style>\n<table border=\"1\" class=\"dataframe\">\n  <thead>\n    <tr style=\"text-align: right;\">\n      <th></th>\n      <th>horsepower</th>\n      <th>horsepower-binned</th>\n    </tr>\n  </thead>\n  <tbody>\n    <tr>\n      <th>0</th>\n      <td>130</td>\n      <td>Medium</td>\n    </tr>\n    <tr>\n      <th>1</th>\n      <td>165</td>\n      <td>Medium</td>\n    </tr>\n    <tr>\n      <th>2</th>\n      <td>150</td>\n      <td>Medium</td>\n    </tr>\n    <tr>\n      <th>3</th>\n      <td>150</td>\n      <td>Medium</td>\n    </tr>\n    <tr>\n      <th>4</th>\n      <td>140</td>\n      <td>Medium</td>\n    </tr>\n    <tr>\n      <th>5</th>\n      <td>198</td>\n      <td>High</td>\n    </tr>\n    <tr>\n      <th>6</th>\n      <td>220</td>\n      <td>High</td>\n    </tr>\n    <tr>\n      <th>7</th>\n      <td>215</td>\n      <td>High</td>\n    </tr>\n    <tr>\n      <th>8</th>\n      <td>225</td>\n      <td>High</td>\n    </tr>\n    <tr>\n      <th>9</th>\n      <td>190</td>\n      <td>High</td>\n    </tr>\n    <tr>\n      <th>10</th>\n      <td>170</td>\n      <td>High</td>\n    </tr>\n    <tr>\n      <th>11</th>\n      <td>160</td>\n      <td>Medium</td>\n    </tr>\n    <tr>\n      <th>12</th>\n      <td>150</td>\n      <td>Medium</td>\n    </tr>\n    <tr>\n      <th>13</th>\n      <td>225</td>\n      <td>High</td>\n    </tr>\n    <tr>\n      <th>14</th>\n      <td>95</td>\n      <td>Little</td>\n    </tr>\n    <tr>\n      <th>15</th>\n      <td>95</td>\n      <td>Little</td>\n    </tr>\n    <tr>\n      <th>16</th>\n      <td>97</td>\n      <td>Little</td>\n    </tr>\n    <tr>\n      <th>18</th>\n      <td>88</td>\n      <td>Little</td>\n    </tr>\n    <tr>\n      <th>19</th>\n      <td>46</td>\n      <td>Little</td>\n    </tr>\n    <tr>\n      <th>20</th>\n      <td>87</td>\n      <td>Little</td>\n    </tr>\n  </tbody>\n</table>\n</div>"
          },
          "metadata": {}
        }
      ]
    },
    {
      "cell_type": "code",
      "source": "df[\"horsepower-binned\"].value_counts()",
      "metadata": {
        "trusted": true
      },
      "execution_count": 28,
      "outputs": [
        {
          "execution_count": 28,
          "output_type": "execute_result",
          "data": {
            "text/plain": "Little    44\nMedium    30\nHigh      23\nName: horsepower-binned, dtype: int64"
          },
          "metadata": {}
        }
      ]
    },
    {
      "cell_type": "code",
      "source": "#the distribution of each bin:\n\n%matplotlib inline\nimport matplotlib as plt\nfrom matplotlib import pyplot\npyplot.bar(bin_names, df[\"horsepower-binned\"].value_counts())\n\n# set x/y labels and plot title\nplt.pyplot.xlabel(\"horsepower\")\nplt.pyplot.ylabel(\"count\")\nplt.pyplot.title(\"horsepower bins\")",
      "metadata": {
        "trusted": true
      },
      "execution_count": 29,
      "outputs": [
        {
          "execution_count": 29,
          "output_type": "execute_result",
          "data": {
            "text/plain": "Text(0.5, 1.0, 'horsepower bins')"
          },
          "metadata": {}
        },
        {
          "output_type": "display_data",
          "data": {
            "text/plain": "<Figure size 640x480 with 1 Axes>",
            "image/png": "[encoded data removed]"
          },
          "metadata": {}
        }
      ]
    },
    {
      "cell_type": "code",
      "source": "# draw historgram of attribute \"horsepower\" with bins = 3\nplt.pyplot.hist(df[\"horsepower\"], bins = 3)\n\n# set x/y labels and plot title\nplt.pyplot.xlabel(\"horsepower\")\nplt.pyplot.ylabel(\"count\")\nplt.pyplot.title(\"horsepower bins\")",
      "metadata": {
        "trusted": true
      },
      "execution_count": 30,
      "outputs": [
        {
          "execution_count": 30,
          "output_type": "execute_result",
          "data": {
            "text/plain": "Text(0.5, 1.0, 'horsepower bins')"
          },
          "metadata": {}
        },
        {
          "output_type": "display_data",
          "data": {
            "text/plain": "<Figure size 640x480 with 1 Axes>",
            "image/png": "[encoded data removed]"
          },
          "metadata": {}
        }
      ]
    },
    {
      "cell_type": "code",
      "source": "from scipy import stats\nthreshold = 3\n\nz_horsepower = np.abs(stats.zscore(df['horsepower']))\noutliers_horsepower = df[z_horsepower > threshold]\n#print(outliers_horsepower)\n\n\nz_acceleration = np.abs(stats.zscore(df['acceleration']))\n#outliers_acceleration = df[z_acceleration > threshold]\nprint(z_acceleration.min())\nprint(z_acceleration.max())\nprint(z_acceleration.mean())\noutliers_acceleration = df[z_acceleration > threshold]\n\noutliers_acceleration\n## drop rows containing outliers\ndf = df.drop(outliers_acceleration.index)\ndf\n# replace outliers with median value\n##df.loc[z_acceleration > threshold, 'acceleration'] = df['acceleration'].median()",
      "metadata": {
        "trusted": true
      },
      "execution_count": 32,
      "outputs": [
        {
          "name": "stdout",
          "text": "0.0033507043002730273\n2.3104839273297904\n0.7917146182368316\n",
          "output_type": "stream"
        },
        {
          "execution_count": 32,
          "output_type": "execute_result",
          "data": {
            "text/plain": "    cylinders  displacement  horsepower    weight  acceleration  model year  \\\n0           8         307.0         130  0.681712          12.0        70.0   \n1           8         350.0         165  0.718482          11.5        70.0   \n2           8         318.0         150  0.668482          11.0        70.0   \n3           8         304.0         150  0.667899          12.0        70.0   \n4           8         302.0         140  0.671012          10.5        70.0   \n..        ...           ...         ...       ...           ...         ...   \n93          8         318.0         150  0.824319          14.5        73.0   \n94          8         440.0         215  0.921206          11.0        73.0   \n95          8         455.0         225  0.963230          11.0        73.0   \n96          8         360.0         175  0.743385          11.0        73.0   \n97          6         225.0         105  0.607198          16.5        73.0   \n\n    origin                      car name CAR Number    L/100km  \\\n0        1     chevrolet chevelle malibu    L6V 043  13.055556   \n1        1             buick skylark 320     RTY079  15.666667   \n2        1            plymouth satellite     MTP600  13.055556   \n3        1                 amc rebel sst     MNJ000  14.687500   \n4        1                   ford torino   JEETMEET  13.823529   \n..     ...                           ...        ...        ...   \n93       1      plymouth fury gran sedan     FGTEE4  16.785714   \n94       1  chrysler new yorker brougham     GTTYR6  18.076923   \n95       1      buick electra 225 custom    TTGGT53  19.583333   \n96       1       amc ambassador brougham    TGTYY67  18.076923   \n97       1              plymouth valiant     HUYT76  13.055556   \n\n   horsepower-binned  \n0             Medium  \n1             Medium  \n2             Medium  \n3             Medium  \n4             Medium  \n..               ...  \n93            Medium  \n94              High  \n95              High  \n96              High  \n97            Little  \n\n[96 rows x 11 columns]",
            "text/html": "<div>\n<style scoped>\n    .dataframe tbody tr th:only-of-type {\n        vertical-align: middle;\n    }\n\n    .dataframe tbody tr th {\n        vertical-align: top;\n    }\n\n    .dataframe thead th {\n        text-align: right;\n    }\n</style>\n<table border=\"1\" class=\"dataframe\">\n  <thead>\n    <tr style=\"text-align: right;\">\n      <th></th>\n      <th>cylinders</th>\n      <th>displacement</th>\n      <th>horsepower</th>\n      <th>weight</th>\n      <th>acceleration</th>\n      <th>model year</th>\n      <th>origin</th>\n      <th>car name</th>\n      <th>CAR Number</th>\n      <th>L/100km</th>\n      <th>horsepower-binned</th>\n    </tr>\n  </thead>\n  <tbody>\n    <tr>\n      <th>0</th>\n      <td>8</td>\n      <td>307.0</td>\n      <td>130</td>\n      <td>0.681712</td>\n      <td>12.0</td>\n      <td>70.0</td>\n      <td>1</td>\n      <td>chevrolet chevelle malibu</td>\n      <td>L6V 043</td>\n      <td>13.055556</td>\n      <td>Medium</td>\n    </tr>\n    <tr>\n      <th>1</th>\n      <td>8</td>\n      <td>350.0</td>\n      <td>165</td>\n      <td>0.718482</td>\n      <td>11.5</td>\n      <td>70.0</td>\n      <td>1</td>\n      <td>buick skylark 320</td>\n      <td>RTY079</td>\n      <td>15.666667</td>\n      <td>Medium</td>\n    </tr>\n    <tr>\n      <th>2</th>\n      <td>8</td>\n      <td>318.0</td>\n      <td>150</td>\n      <td>0.668482</td>\n      <td>11.0</td>\n      <td>70.0</td>\n      <td>1</td>\n      <td>plymouth satellite</td>\n      <td>MTP600</td>\n      <td>13.055556</td>\n      <td>Medium</td>\n    </tr>\n    <tr>\n      <th>3</th>\n      <td>8</td>\n      <td>304.0</td>\n      <td>150</td>\n      <td>0.667899</td>\n      <td>12.0</td>\n      <td>70.0</td>\n      <td>1</td>\n      <td>amc rebel sst</td>\n      <td>MNJ000</td>\n      <td>14.687500</td>\n      <td>Medium</td>\n    </tr>\n    <tr>\n      <th>4</th>\n      <td>8</td>\n      <td>302.0</td>\n      <td>140</td>\n      <td>0.671012</td>\n      <td>10.5</td>\n      <td>70.0</td>\n      <td>1</td>\n      <td>ford torino</td>\n      <td>JEETMEET</td>\n      <td>13.823529</td>\n      <td>Medium</td>\n    </tr>\n    <tr>\n      <th>...</th>\n      <td>...</td>\n      <td>...</td>\n      <td>...</td>\n      <td>...</td>\n      <td>...</td>\n      <td>...</td>\n      <td>...</td>\n      <td>...</td>\n      <td>...</td>\n      <td>...</td>\n      <td>...</td>\n    </tr>\n    <tr>\n      <th>93</th>\n      <td>8</td>\n      <td>318.0</td>\n      <td>150</td>\n      <td>0.824319</td>\n      <td>14.5</td>\n      <td>73.0</td>\n      <td>1</td>\n      <td>plymouth fury gran sedan</td>\n      <td>FGTEE4</td>\n      <td>16.785714</td>\n      <td>Medium</td>\n    </tr>\n    <tr>\n      <th>94</th>\n      <td>8</td>\n      <td>440.0</td>\n      <td>215</td>\n      <td>0.921206</td>\n      <td>11.0</td>\n      <td>73.0</td>\n      <td>1</td>\n      <td>chrysler new yorker brougham</td>\n      <td>GTTYR6</td>\n      <td>18.076923</td>\n      <td>High</td>\n    </tr>\n    <tr>\n      <th>95</th>\n      <td>8</td>\n      <td>455.0</td>\n      <td>225</td>\n      <td>0.963230</td>\n      <td>11.0</td>\n      <td>73.0</td>\n      <td>1</td>\n      <td>buick electra 225 custom</td>\n      <td>TTGGT53</td>\n      <td>19.583333</td>\n      <td>High</td>\n    </tr>\n    <tr>\n      <th>96</th>\n      <td>8</td>\n      <td>360.0</td>\n      <td>175</td>\n      <td>0.743385</td>\n      <td>11.0</td>\n      <td>73.0</td>\n      <td>1</td>\n      <td>amc ambassador brougham</td>\n      <td>TGTYY67</td>\n      <td>18.076923</td>\n      <td>High</td>\n    </tr>\n    <tr>\n      <th>97</th>\n      <td>6</td>\n      <td>225.0</td>\n      <td>105</td>\n      <td>0.607198</td>\n      <td>16.5</td>\n      <td>73.0</td>\n      <td>1</td>\n      <td>plymouth valiant</td>\n      <td>HUYT76</td>\n      <td>13.055556</td>\n      <td>Little</td>\n    </tr>\n  </tbody>\n</table>\n<p>96 rows × 11 columns</p>\n</div>"
          },
          "metadata": {}
        }
      ]
    },
    {
      "cell_type": "code",
      "source": "#Plotting in Python:\nfrom matplotlib import pyplot as plt\nimport matplotlib.pyplot as plt\n#Note that most of the plots that are of interest to us in this library are contained in the pyplot subfolder of the package.\n\nmatplotlib functions return a plot object which requires additional statements to display. While using matplotlib in Jupyter Notebooks, we require the graph to be displayed inside the notebook interface itself. \nIt is, therefore, essential to add the following 'magic' statement after loading the library.",
      "metadata": {
        "trusted": true
      },
      "execution_count": 33,
      "outputs": [
        {
          "ename": "<class 'SyntaxError'>",
          "evalue": "invalid syntax (<ipython-input-33-aa9620c1ec4d>, line 6)",
          "traceback": [
            "\u001b[0;36m  Cell \u001b[0;32mIn[33], line 6\u001b[0;36m\u001b[0m\n\u001b[0;31m    matplotlib functions return a plot object which requires additional statements to display. While using matplotlib in Jupyter Notebooks, we require the graph to be displayed inside the notebook interface itself.\u001b[0m\n\u001b[0m               ^\u001b[0m\n\u001b[0;31mSyntaxError\u001b[0m\u001b[0;31m:\u001b[0m invalid syntax\n"
          ],
          "output_type": "error"
        }
      ]
    },
    {
      "cell_type": "code",
      "source": "",
      "metadata": {},
      "execution_count": null,
      "outputs": []
    }
  ]
}